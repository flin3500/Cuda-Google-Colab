{
  "cells": [
    {
      "cell_type": "code",
      "execution_count": 104,
      "metadata": {
        "colab": {
          "base_uri": "https://localhost:8080/"
        },
        "id": "FJNaVYXrsyX1",
        "outputId": "28f6857c-7b58-4efb-e698-5fd9361b715a"
      },
      "outputs": [
        {
          "name": "stdout",
          "output_type": "stream",
          "text": [
            "bin\t   cuda-10.1  cuda-11.1  _gcs_config_ops.so  licensing\tshare\n",
            "cuda\t   cuda-11    etc\t include\t     man\tsrc\n",
            "cuda-10.0  cuda-11.0  games\t lib\t\t     sbin\txgboost\n"
          ]
        }
      ],
      "source": [
        "# To show that if there is cuda tookit installed\n",
        "!ls /usr/local"
      ]
    },
    {
      "cell_type": "code",
      "execution_count": 105,
      "metadata": {
        "colab": {
          "base_uri": "https://localhost:8080/"
        },
        "id": "EWeDREa1tIGH",
        "outputId": "892c947e-c9b4-4a72-a9f2-14abde1bb612"
      },
      "outputs": [
        {
          "name": "stdout",
          "output_type": "stream",
          "text": [
            "/usr/local/cuda/bin/nvcc\n"
          ]
        }
      ],
      "source": [
        "# To show that if we have the nvcc command\n",
        "!which nvcc"
      ]
    },
    {
      "cell_type": "code",
      "execution_count": 106,
      "metadata": {
        "colab": {
          "base_uri": "https://localhost:8080/"
        },
        "id": "hctj5aYxtSwK",
        "outputId": "33ecee01-15b1-4813-b44b-706aea4b9066"
      },
      "outputs": [
        {
          "name": "stdout",
          "output_type": "stream",
          "text": [
            "Tue Apr  5 13:57:33 2022       \n",
            "+-----------------------------------------------------------------------------+\n",
            "| NVIDIA-SMI 460.32.03    Driver Version: 460.32.03    CUDA Version: 11.2     |\n",
            "|-------------------------------+----------------------+----------------------+\n",
            "| GPU  Name        Persistence-M| Bus-Id        Disp.A | Volatile Uncorr. ECC |\n",
            "| Fan  Temp  Perf  Pwr:Usage/Cap|         Memory-Usage | GPU-Util  Compute M. |\n",
            "|                               |                      |               MIG M. |\n",
            "|===============================+======================+======================|\n",
            "|   0  Tesla K80           Off  | 00000000:00:04.0 Off |                    0 |\n",
            "| N/A   31C    P8    29W / 149W |      0MiB / 11441MiB |      0%      Default |\n",
            "|                               |                      |                  N/A |\n",
            "+-------------------------------+----------------------+----------------------+\n",
            "                                                                               \n",
            "+-----------------------------------------------------------------------------+\n",
            "| Processes:                                                                  |\n",
            "|  GPU   GI   CI        PID   Type   Process name                  GPU Memory |\n",
            "|        ID   ID                                                   Usage      |\n",
            "|=============================================================================|\n",
            "|  No running processes found                                                 |\n",
            "+-----------------------------------------------------------------------------+\n"
          ]
        }
      ],
      "source": [
        "# To show the property of the nvidia card(On my one, I use the K80)\n",
        "!nvidia-smi"
      ]
    },
    {
      "cell_type": "code",
      "execution_count": 107,
      "metadata": {
        "colab": {
          "base_uri": "https://localhost:8080/"
        },
        "id": "OmQ-PLNKhX2f",
        "outputId": "00fcda0d-5c4f-452c-dbe5-35c77c1df5c0"
      },
      "outputs": [
        {
          "name": "stdout",
          "output_type": "stream",
          "text": [
            "Overwriting coordinate.cu\n"
          ]
        }
      ],
      "source": [
        "# Write a cu file contain the host and kernel code\n",
        "%%writefile coordinate.cu\n",
        "\n",
        "#include <cuda_runtime.h>\n",
        "#include <stdio.h>\n",
        "\n",
        "__global__ void printCoordinate(int *A,const int nx,const int ny)\n",
        "{\n",
        "  int ix=threadIdx.x+blockIdx.x*blockDim.x;\n",
        "  int iy=threadIdx.y+blockIdx.y*blockDim.y;\n",
        "  unsigned int idx=iy*nx+ix;\n",
        "  printf(\"thread_id(%d,%d) block_id(%d,%d) coordinate(%d,%d)\"\n",
        "          \"global index %2d ival %2d\\n\",threadIdx.x,threadIdx.y,\n",
        "          blockIdx.x,blockIdx.y,ix,iy,idx,A[idx]);\n",
        "}\n",
        "\n",
        "int main(int argc,char ** argv)\n",
        "{\n",
        "  cudaSetDevice(0);\n",
        "  // __host__ cudaError_t cudaSetDevice ( int  device )\n",
        "  // Set device to be used for GPU executions. \n",
        "  // device - Device on which the active host thread should execute the device code. \n",
        "\n",
        "  int nx = 8;\n",
        "  int ny = 6;\n",
        "  // Malloc\n",
        "  int* A_host = (int*)malloc(nx*ny*sizeof(int));\n",
        "\n",
        "  for(int i = 0; i<nx*ny; ++i){\n",
        "      A_host[i] = 0;\n",
        "  }\n",
        "  \n",
        "  // __host__ __device__cudaError_t cudaMalloc ( void** devPtr, size_t size ) \n",
        "  // devPtr - Pointer to allocated device memory\n",
        "  // size - Requested allocation size in bytes \n",
        "  // __host__ is a function type qualifier that indicates that a function \n",
        "  // should be compiled for the host (CPU)\n",
        "  // __device__ is a function type qualifier that indicates \n",
        "  // that a function should be compiled for the device (GPU).\n",
        "  // cudaError_t is an enumerated type that represents the error codes \n",
        "  // returned by CUDA Runtime API functions.\n",
        "\n",
        "  int *A_dev=NULL;\n",
        "  cudaMalloc((void**)&A_dev, nx*ny*sizeof(int));\n",
        "  cudaMemcpy(A_dev, A_host, nx*ny*sizeof(int), cudaMemcpyHostToDevice);\n",
        "  // __host__ cudaError_t cudaMemcpy ( void* dst, const void* src, size_t count, cudaMemcpyKind kind ) \n",
        "  // dst - Destination memory address \n",
        "  // src - Source memory address \n",
        "  // count - Size in bytes to copy \n",
        "  // kind - Type of transfer \n",
        "\n",
        "  dim3 block(4,2);\n",
        "  // a two-dimensional block of threads with dimensions 4 and 2 in the x and y directions\n",
        "  dim3 grid((nx-1)/block.x+1,(ny-1)/block.y+1);\n",
        "  //  the dimensions of the grid of thread blocks.\n",
        "  \n",
        "  printCoordinate<<<grid,block>>>(A_dev,nx,ny);\n",
        "  cudaDeviceSynchronize();\n",
        " \n",
        "  // Free\n",
        "  cudaFree(A_dev);\n",
        "  free(A_host);\n",
        " \n",
        "  cudaDeviceReset();\n",
        "  return 0;\n",
        "}"
      ]
    },
    {
      "cell_type": "code",
      "execution_count": 108,
      "metadata": {
        "colab": {
          "base_uri": "https://localhost:8080/"
        },
        "id": "7wTtatxRtii9",
        "outputId": "064bc0da-e21b-4eac-fe10-8a357541b7d1"
      },
      "outputs": [
        {
          "name": "stdout",
          "output_type": "stream",
          "text": [
            "nvcc warning : The 'compute_35', 'compute_37', 'compute_50', 'sm_35', 'sm_37' and 'sm_50' architectures are deprecated, and may be removed in a future release (Use -Wno-deprecated-gpu-targets to suppress warning).\n"
          ]
        }
      ],
      "source": [
        "# Compile the code. The flag is needed if you use the Tesla K80.  \n",
        "!nvcc -arch=sm_37 -gencode=arch=compute_37,code=sm_37 coordinate.cu -o coordinate"
      ]
    },
    {
      "cell_type": "code",
      "execution_count": 109,
      "metadata": {
        "colab": {
          "base_uri": "https://localhost:8080/"
        },
        "id": "fMTrRs5XujfU",
        "outputId": "4da20e85-52e6-4fb7-d596-2a2c08af00b8"
      },
      "outputs": [
        {
          "name": "stdout",
          "output_type": "stream",
          "text": [
            "thread_id(0,0) block_id(0,2) coordinate(0,4)global index 32 ival  0\n",
            "thread_id(1,0) block_id(0,2) coordinate(1,4)global index 33 ival  0\n",
            "thread_id(2,0) block_id(0,2) coordinate(2,4)global index 34 ival  0\n",
            "thread_id(3,0) block_id(0,2) coordinate(3,4)global index 35 ival  0\n",
            "thread_id(0,1) block_id(0,2) coordinate(0,5)global index 40 ival  0\n",
            "thread_id(1,1) block_id(0,2) coordinate(1,5)global index 41 ival  0\n",
            "thread_id(2,1) block_id(0,2) coordinate(2,5)global index 42 ival  0\n",
            "thread_id(3,1) block_id(0,2) coordinate(3,5)global index 43 ival  0\n",
            "thread_id(0,0) block_id(1,1) coordinate(4,2)global index 20 ival  0\n",
            "thread_id(1,0) block_id(1,1) coordinate(5,2)global index 21 ival  0\n",
            "thread_id(2,0) block_id(1,1) coordinate(6,2)global index 22 ival  0\n",
            "thread_id(3,0) block_id(1,1) coordinate(7,2)global index 23 ival  0\n",
            "thread_id(0,1) block_id(1,1) coordinate(4,3)global index 28 ival  0\n",
            "thread_id(1,1) block_id(1,1) coordinate(5,3)global index 29 ival  0\n",
            "thread_id(2,1) block_id(1,1) coordinate(6,3)global index 30 ival  0\n",
            "thread_id(3,1) block_id(1,1) coordinate(7,3)global index 31 ival  0\n",
            "thread_id(0,0) block_id(1,2) coordinate(4,4)global index 36 ival  0\n",
            "thread_id(1,0) block_id(1,2) coordinate(5,4)global index 37 ival  0\n",
            "thread_id(2,0) block_id(1,2) coordinate(6,4)global index 38 ival  0\n",
            "thread_id(3,0) block_id(1,2) coordinate(7,4)global index 39 ival  0\n",
            "thread_id(0,1) block_id(1,2) coordinate(4,5)global index 44 ival  0\n",
            "thread_id(1,1) block_id(1,2) coordinate(5,5)global index 45 ival  0\n",
            "thread_id(2,1) block_id(1,2) coordinate(6,5)global index 46 ival  0\n",
            "thread_id(3,1) block_id(1,2) coordinate(7,5)global index 47 ival  0\n",
            "thread_id(0,0) block_id(1,0) coordinate(4,0)global index  4 ival  0\n",
            "thread_id(1,0) block_id(1,0) coordinate(5,0)global index  5 ival  0\n",
            "thread_id(2,0) block_id(1,0) coordinate(6,0)global index  6 ival  0\n",
            "thread_id(3,0) block_id(1,0) coordinate(7,0)global index  7 ival  0\n",
            "thread_id(0,1) block_id(1,0) coordinate(4,1)global index 12 ival  0\n",
            "thread_id(1,1) block_id(1,0) coordinate(5,1)global index 13 ival  0\n",
            "thread_id(2,1) block_id(1,0) coordinate(6,1)global index 14 ival  0\n",
            "thread_id(3,1) block_id(1,0) coordinate(7,1)global index 15 ival  0\n",
            "thread_id(0,0) block_id(0,0) coordinate(0,0)global index  0 ival  0\n",
            "thread_id(1,0) block_id(0,0) coordinate(1,0)global index  1 ival  0\n",
            "thread_id(2,0) block_id(0,0) coordinate(2,0)global index  2 ival  0\n",
            "thread_id(3,0) block_id(0,0) coordinate(3,0)global index  3 ival  0\n",
            "thread_id(0,1) block_id(0,0) coordinate(0,1)global index  8 ival  0\n",
            "thread_id(1,1) block_id(0,0) coordinate(1,1)global index  9 ival  0\n",
            "thread_id(2,1) block_id(0,0) coordinate(2,1)global index 10 ival  0\n",
            "thread_id(3,1) block_id(0,0) coordinate(3,1)global index 11 ival  0\n",
            "thread_id(0,0) block_id(0,1) coordinate(0,2)global index 16 ival  0\n",
            "thread_id(1,0) block_id(0,1) coordinate(1,2)global index 17 ival  0\n",
            "thread_id(2,0) block_id(0,1) coordinate(2,2)global index 18 ival  0\n",
            "thread_id(3,0) block_id(0,1) coordinate(3,2)global index 19 ival  0\n",
            "thread_id(0,1) block_id(0,1) coordinate(0,3)global index 24 ival  0\n",
            "thread_id(1,1) block_id(0,1) coordinate(1,3)global index 25 ival  0\n",
            "thread_id(2,1) block_id(0,1) coordinate(2,3)global index 26 ival  0\n",
            "thread_id(3,1) block_id(0,1) coordinate(3,3)global index 27 ival  0\n"
          ]
        }
      ],
      "source": [
        "!./coordinate"
      ]
    }
  ],
  "metadata": {
    "accelerator": "GPU",
    "colab": {
      "collapsed_sections": [],
      "name": "check_dim.ipynb",
      "provenance": []
    },
    "kernelspec": {
      "display_name": "Python 3",
      "name": "python3"
    },
    "language_info": {
      "name": "python"
    }
  },
  "nbformat": 4,
  "nbformat_minor": 0
}
